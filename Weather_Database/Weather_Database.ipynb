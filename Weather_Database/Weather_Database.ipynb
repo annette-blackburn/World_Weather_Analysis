{
 "cells": [
  {
   "cell_type": "code",
   "execution_count": 21,
   "metadata": {},
   "outputs": [],
   "source": [
    "import random\n",
    "import requests\n",
    "\n",
    "import numpy as np\n",
    "import pandas as pd\n",
    "\n",
    "from citipy import citipy\n",
    "from config import weather_api_key as api_key"
   ]
  },
  {
   "cell_type": "markdown",
   "metadata": {},
   "source": [
    "\n",
    "# Deliverable 1"
   ]
  },
  {
   "cell_type": "code",
   "execution_count": 22,
   "metadata": {},
   "outputs": [
    {
     "data": {
      "text/plain": [
       "782"
      ]
     },
     "execution_count": 22,
     "metadata": {},
     "output_type": "execute_result"
    }
   ],
   "source": [
    "NUM_COORDS = 2000\n",
    "\n",
    "lats = np.random.uniform(low=-90.0, high=90.0, size=NUM_COORDS)\n",
    "longs= np.random.uniform(low=-180.0, high=180.0, size=NUM_COORDS)\n",
    "\n",
    "cities = []\n",
    "for lat, long, idx in zip(lats, longs, range(NUM_COORDS)):\n",
    "    nearest_city = citipy.nearest_city(lat, long).city_name\n",
    "    \n",
    "    if nearest_city not in cities:\n",
    "        cities += [nearest_city]\n",
    "\n",
    "len(cities)"
   ]
  },
  {
   "cell_type": "code",
   "execution_count": 23,
   "metadata": {},
   "outputs": [
    {
     "data": {
      "text/plain": [
       "716"
      ]
     },
     "execution_count": 23,
     "metadata": {},
     "output_type": "execute_result"
    }
   ],
   "source": [
    "url_base = f\"http://api.openweathermap.org/data/2.5/weather?units=Imperial&APPID={api_key}\"\n",
    "\n",
    "responses = {}\n",
    "for city in cities:\n",
    "    url = f\"{url_base}&q={city}\"\n",
    "    response = requests.get(url)\n",
    "    if response.status_code == 200:\n",
    "        responses[city] = response.json()\n",
    "\n",
    "len(responses)"
   ]
  },
  {
   "cell_type": "code",
   "execution_count": 25,
   "metadata": {},
   "outputs": [
    {
     "data": {
      "text/plain": [
       "{'coord': {'lon': -134.9692, 'lat': -23.1203},\n",
       " 'weather': [{'id': 804,\n",
       "   'main': 'Clouds',\n",
       "   'description': 'overcast clouds',\n",
       "   'icon': '04d'}],\n",
       " 'base': 'stations',\n",
       " 'main': {'temp': 69.08,\n",
       "  'feels_like': 68.97,\n",
       "  'temp_min': 69.08,\n",
       "  'temp_max': 69.08,\n",
       "  'pressure': 1017,\n",
       "  'humidity': 70,\n",
       "  'sea_level': 1017,\n",
       "  'grnd_level': 1014},\n",
       " 'visibility': 10000,\n",
       " 'wind': {'speed': 13.76, 'deg': 171},\n",
       " 'clouds': {'all': 100},\n",
       " 'dt': 1661368766,\n",
       " 'sys': {'country': 'PF', 'sunrise': 1661354264, 'sunset': 1661395624},\n",
       " 'timezone': -32400,\n",
       " 'id': 4030556,\n",
       " 'name': 'Rikitea',\n",
       " 'cod': 200}"
      ]
     },
     "execution_count": 25,
     "metadata": {},
     "output_type": "execute_result"
    }
   ],
   "source": [
    "responses[list(responses.keys())[0]]"
   ]
  },
  {
   "cell_type": "code",
   "execution_count": null,
   "metadata": {},
   "outputs": [
    {
     "data": {
      "text/html": [
       "<div>\n",
       "<style scoped>\n",
       "    .dataframe tbody tr th:only-of-type {\n",
       "        vertical-align: middle;\n",
       "    }\n",
       "\n",
       "    .dataframe tbody tr th {\n",
       "        vertical-align: top;\n",
       "    }\n",
       "\n",
       "    .dataframe thead th {\n",
       "        text-align: right;\n",
       "    }\n",
       "</style>\n",
       "<table border=\"1\" class=\"dataframe\">\n",
       "  <thead>\n",
       "    <tr style=\"text-align: right;\">\n",
       "      <th></th>\n",
       "      <th>City</th>\n",
       "      <th>Country</th>\n",
       "      <th>Lat</th>\n",
       "      <th>Lng</th>\n",
       "      <th>Max Temp</th>\n",
       "      <th>Humidity</th>\n",
       "      <th>Cloudiness</th>\n",
       "      <th>Wind Speed</th>\n",
       "      <th>Current Description</th>\n",
       "    </tr>\n",
       "  </thead>\n",
       "  <tbody>\n",
       "    <tr>\n",
       "      <th>0</th>\n",
       "      <td>Sydney</td>\n",
       "      <td>AU</td>\n",
       "      <td>-33.8679</td>\n",
       "      <td>151.2073</td>\n",
       "      <td>50.63</td>\n",
       "      <td>72</td>\n",
       "      <td>0</td>\n",
       "      <td>10.36</td>\n",
       "      <td>clear sky</td>\n",
       "    </tr>\n",
       "    <tr>\n",
       "      <th>1</th>\n",
       "      <td>Barrow</td>\n",
       "      <td>US</td>\n",
       "      <td>71.2906</td>\n",
       "      <td>-156.7887</td>\n",
       "      <td>41.02</td>\n",
       "      <td>100</td>\n",
       "      <td>100</td>\n",
       "      <td>5.75</td>\n",
       "      <td>mist</td>\n",
       "    </tr>\n",
       "    <tr>\n",
       "      <th>2</th>\n",
       "      <td>Yumen</td>\n",
       "      <td>CN</td>\n",
       "      <td>40.2833</td>\n",
       "      <td>97.2000</td>\n",
       "      <td>70.30</td>\n",
       "      <td>43</td>\n",
       "      <td>99</td>\n",
       "      <td>8.93</td>\n",
       "      <td>overcast clouds</td>\n",
       "    </tr>\n",
       "    <tr>\n",
       "      <th>3</th>\n",
       "      <td>Kununurra</td>\n",
       "      <td>AU</td>\n",
       "      <td>-15.7667</td>\n",
       "      <td>128.7333</td>\n",
       "      <td>64.38</td>\n",
       "      <td>17</td>\n",
       "      <td>7</td>\n",
       "      <td>9.22</td>\n",
       "      <td>clear sky</td>\n",
       "    </tr>\n",
       "    <tr>\n",
       "      <th>4</th>\n",
       "      <td>Port Hardy</td>\n",
       "      <td>CA</td>\n",
       "      <td>50.6996</td>\n",
       "      <td>-127.4199</td>\n",
       "      <td>59.18</td>\n",
       "      <td>94</td>\n",
       "      <td>75</td>\n",
       "      <td>4.61</td>\n",
       "      <td>mist</td>\n",
       "    </tr>\n",
       "  </tbody>\n",
       "</table>\n",
       "</div>"
      ],
      "text/plain": [
       "         City Country      Lat       Lng  Max Temp  Humidity  Cloudiness  \\\n",
       "0      Sydney      AU -33.8679  151.2073     50.63        72           0   \n",
       "1      Barrow      US  71.2906 -156.7887     41.02       100         100   \n",
       "2       Yumen      CN  40.2833   97.2000     70.30        43          99   \n",
       "3   Kununurra      AU -15.7667  128.7333     64.38        17           7   \n",
       "4  Port Hardy      CA  50.6996 -127.4199     59.18        94          75   \n",
       "\n",
       "   Wind Speed Current Description  \n",
       "0       10.36           clear sky  \n",
       "1        5.75                mist  \n",
       "2        8.93     overcast clouds  \n",
       "3        9.22           clear sky  \n",
       "4        4.61                mist  "
      ]
     },
     "execution_count": 20,
     "metadata": {},
     "output_type": "execute_result"
    }
   ],
   "source": [
    "lats  = []\n",
    "lngs = []\n",
    "names = []\n",
    "ctries= []\n",
    "temps = []\n",
    "humids= []\n",
    "clouds= []\n",
    "winds = []\n",
    "dscrps= []\n",
    "\n",
    "for city in responses.values():\n",
    "    coords = city['coord']\n",
    "    weather = city['weather'][0]\n",
    "    main = city['main']\n",
    "    wind = city['wind']\n",
    "    cloud = city['clouds']\n",
    "    name = city['name']\n",
    "    sys = city['sys']\n",
    "\n",
    "    lats += [coords['lat']]\n",
    "    lngs += [coords['lon']]\n",
    "    names += [name]\n",
    "    ctries += [sys['country']]\n",
    "    temps += [main['temp_max']]\n",
    "    humids += [main['humidity']]\n",
    "    clouds += [cloud['all']]\n",
    "    winds += [wind['speed']]\n",
    "    dscrps += [weather['description']]\n",
    "\n",
    "city_weather = pd.DataFrame(\n",
    "    {\n",
    "        \"City\": names,\n",
    "        \"Country\": ctries,\n",
    "        \"Lat\": lats,\n",
    "        \"Lng\": lngs,\n",
    "        \"Max Temp\": temps,\n",
    "        \"Humidity\": humids,\n",
    "        \"Cloudiness\": clouds,\n",
    "        \"Wind Speed\": winds,\n",
    "        \"Current Description\": dscrps,\n",
    "    }\n",
    ")\n",
    "city_weather.head(10)"
   ]
  },
  {
   "cell_type": "code",
   "execution_count": 26,
   "metadata": {},
   "outputs": [],
   "source": [
    "city_weather.to_csv('./WeatherPy_Database.csv')"
   ]
  }
 ],
 "metadata": {
  "kernelspec": {
   "display_name": "Python 3.7.13 ('PythonData')",
   "language": "python",
   "name": "python3"
  },
  "language_info": {
   "codemirror_mode": {
    "name": "ipython",
    "version": 3
   },
   "file_extension": ".py",
   "mimetype": "text/x-python",
   "name": "python",
   "nbconvert_exporter": "python",
   "pygments_lexer": "ipython3",
   "version": "3.7.13"
  },
  "orig_nbformat": 4,
  "vscode": {
   "interpreter": {
    "hash": "a5387b9da968551e43e0ccab31c37bebadc093c630309dcd510e17231b5b064a"
   }
  }
 },
 "nbformat": 4,
 "nbformat_minor": 2
}
